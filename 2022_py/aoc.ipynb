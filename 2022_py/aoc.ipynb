{
  "nbformat": 4,
  "nbformat_minor": 0,
  "metadata": {
    "colab": {
      "provenance": []
    },
    "kernelspec": {
      "name": "python3",
      "display_name": "Python 3"
    },
    "language_info": {
      "name": "python"
    }
  },
  "cells": [
    {
      "cell_type": "markdown",
      "source": [
        "day 1"
      ],
      "metadata": {
        "id": "L0O5BeOIKlWd"
      }
    },
    {
      "cell_type": "code",
      "execution_count": null,
      "metadata": {
        "colab": {
          "base_uri": "https://localhost:8080/"
        },
        "id": "THHNy44KKSCx",
        "outputId": "68ed2f26-b097-4b2d-de9f-43921259feba"
      },
      "outputs": [
        {
          "output_type": "execute_result",
          "data": {
            "text/plain": [
              "(69528, 206152)"
            ]
          },
          "metadata": {},
          "execution_count": 2
        }
      ],
      "source": [
        "from queue import PriorityQueue\n",
        "\n",
        "f = open('1_2.txt')\n",
        "lines = f.read().split('\\n')\n",
        "\n",
        "max_sum, cur_sum = 0, 0\n",
        "q = PriorityQueue()\n",
        "for line in lines:\n",
        "  if line != '':\n",
        "    cur_sum += int(line)\n",
        "  else:\n",
        "    max_sum = max(max_sum, cur_sum)\n",
        "    q.put(-cur_sum)\n",
        "    cur_sum = 0\n",
        "\n",
        "top_three_sum = 0\n",
        "for i in range(3):\n",
        "  top_three_sum -= q.get()\n",
        "\n",
        "max_sum, top_three_sum"
      ]
    },
    {
      "cell_type": "markdown",
      "source": [
        "day 2"
      ],
      "metadata": {
        "id": "vF54wsmdF3Sy"
      }
    },
    {
      "cell_type": "code",
      "source": [
        "shape_to_score = {'X': 1, 'Y': 2, 'Z': 3}\n",
        "opp_to_shape = {'A': 'X', 'B': 'Y', 'C': 'Z'}"
      ],
      "metadata": {
        "id": "UQpy7szZGW3E"
      },
      "execution_count": null,
      "outputs": []
    },
    {
      "cell_type": "code",
      "source": [
        "def parse_rounds():\n",
        "  s = open('2_2.txt').read()\n",
        "  rounds = []\n",
        "\n",
        "  for line in s.split('\\n')[:-1]:#[1:-1]:\n",
        "    tokens = line.split(' ')\n",
        "    opp, you = tokens[0], tokens[1]\n",
        "    rounds.append([opp_to_shape[opp], you])\n",
        "  return rounds"
      ],
      "metadata": {
        "id": "8Sgk85OpQ3QS"
      },
      "execution_count": null,
      "outputs": []
    },
    {
      "cell_type": "code",
      "source": [
        "def eval_total_score(rounds):\n",
        "  # key => [draws with, beats, loses]\n",
        "  lookup = {\n",
        "      'X': ['X', 'Z', 'Y'],\n",
        "      'Y': ['Y', 'X', 'Z'],\n",
        "      'Z': ['Z', 'Y', 'X'],\n",
        "  }\n",
        "\n",
        "  total_score = 0\n",
        "  for opp, you in rounds:\n",
        "    draws_with, beats, loses = lookup[opp]\n",
        "    if draws_with == you: # opp and you draw with each other\n",
        "      total_score += shape_to_score[you] + 3\n",
        "    elif beats == you: # opp beats, you lose\n",
        "      total_score += shape_to_score[you]\n",
        "    elif loses == you: # opp loses, you beat\n",
        "      total_score += shape_to_score[you] + 6\n",
        "  return total_score\n",
        "\n",
        "eval_total_score(parse_rounds())"
      ],
      "metadata": {
        "colab": {
          "base_uri": "https://localhost:8080/"
        },
        "id": "VTbgtNQDNZfb",
        "outputId": "432e9350-7a6a-4a88-ed1c-242ff2f89d30"
      },
      "execution_count": null,
      "outputs": [
        {
          "output_type": "execute_result",
          "data": {
            "text/plain": [
              "14163"
            ]
          },
          "metadata": {},
          "execution_count": 22
        }
      ]
    },
    {
      "cell_type": "code",
      "source": [
        "result_to_score = {\n",
        "    'X': 0, # you lose\n",
        "    'Y': 3, # draw\n",
        "    'Z': 6, # you win\n",
        "}\n",
        "\n",
        "def get_move_for_result(opp, result):\n",
        "  lookup = {\n",
        "    'X': ['X', 'Z', 'Y'],\n",
        "    'Y': ['Y', 'X', 'Z'],\n",
        "    'Z': ['Z', 'Y', 'X'],\n",
        "  }\n",
        "  options = lookup[opp]\n",
        "  if result == 'Y': # draw\n",
        "    return options[0]\n",
        "  elif result == 'X': # you lose\n",
        "    return options[1]\n",
        "  elif result =='Z': # you win\n",
        "    return options[2]\n",
        "\n",
        "def eval_total_score_2(rounds):\n",
        "  total_score = 0\n",
        "  for opp, result in rounds:\n",
        "    you = get_move_for_result(opp, result)\n",
        "    total_score += shape_to_score[you] + result_to_score[result]\n",
        "  return total_score\n",
        "\n",
        "eval_total_score_2(parse_rounds())"
      ],
      "metadata": {
        "colab": {
          "base_uri": "https://localhost:8080/"
        },
        "id": "nzXJilWdNxL0",
        "outputId": "76a04527-4bbf-434e-e77a-48c4be65101c"
      },
      "execution_count": null,
      "outputs": [
        {
          "output_type": "execute_result",
          "data": {
            "text/plain": [
              "12091"
            ]
          },
          "metadata": {},
          "execution_count": 42
        }
      ]
    },
    {
      "cell_type": "markdown",
      "source": [
        "day 3"
      ],
      "metadata": {
        "id": "H1FSP2vhb6f3"
      }
    },
    {
      "cell_type": "code",
      "source": [
        "def parse(fn):\n",
        "  sacks = []\n",
        "  with open(fn) as fd:\n",
        "    for line in fd.readlines():\n",
        "      line = line.strip()\n",
        "      length = len(line) // 2\n",
        "      left, right = line[:length], line[length:]\n",
        "      sacks.append([left, right])\n",
        "  return sacks"
      ],
      "metadata": {
        "id": "ak7wPqlrb5VM"
      },
      "execution_count": null,
      "outputs": []
    },
    {
      "cell_type": "code",
      "source": [
        "def priority(char):\n",
        "  if 'a' <= char and char <= 'z':\n",
        "    return ord(char) - 96\n",
        "  if 'A' <= char and char <= 'Z':\n",
        "    return ord(char) - ord('A') + 27\n",
        "\n",
        "def p1(sacks):\n",
        "  priorities = 0\n",
        "  for (left, right) in sacks:\n",
        "    common_char = set(left).intersection(set(right))\n",
        "    common_char = next(iter(common_char))\n",
        "    priorities += priority(common_char)\n",
        "  return priorities\n",
        "\n",
        "p1(parse('3_2.txt'))"
      ],
      "metadata": {
        "colab": {
          "base_uri": "https://localhost:8080/"
        },
        "id": "dVZzd3_5c-1N",
        "outputId": "59150dc0-9842-4f3c-814b-25031a2af25d"
      },
      "execution_count": null,
      "outputs": [
        {
          "output_type": "execute_result",
          "data": {
            "text/plain": [
              "7863"
            ]
          },
          "metadata": {},
          "execution_count": 16
        }
      ]
    },
    {
      "cell_type": "code",
      "source": [
        "def p2(sacks):\n",
        "  ctr = 0\n",
        "  groups, group = [], []\n",
        "  for i, (left, right) in enumerate(sacks):\n",
        "    group.append(left + right)\n",
        "    ctr += 1\n",
        "    if ctr == 3:\n",
        "      groups.append(group)\n",
        "      ctr, group = 0, []\n",
        "\n",
        "  priorities = 0\n",
        "  for group in groups:\n",
        "    common_char = set(group[0]).intersection(set(group[1])).intersection(set(group[2]))\n",
        "    common_char = next(iter(common_char))\n",
        "    priorities += priority(common_char)\n",
        "  return priorities\n",
        "\n",
        "p2(parse('3_2.txt'))"
      ],
      "metadata": {
        "colab": {
          "base_uri": "https://localhost:8080/"
        },
        "id": "1JewpZZJmLqs",
        "outputId": "0c3a03d5-190b-4ba4-84d4-e6af23cf7eb7"
      },
      "execution_count": null,
      "outputs": [
        {
          "output_type": "execute_result",
          "data": {
            "text/plain": [
              "2488"
            ]
          },
          "metadata": {},
          "execution_count": 17
        }
      ]
    },
    {
      "cell_type": "markdown",
      "source": [
        "day 4"
      ],
      "metadata": {
        "id": "1yzbl9BZlwxp"
      }
    },
    {
      "cell_type": "code",
      "source": [
        "def parse(fn):\n",
        "  range_pairs = []\n",
        "  with open(fn) as fd:\n",
        "    lines = fd.read().split('\\n')[:-1]\n",
        "    for line in lines:\n",
        "      p1, p2 = line.split(',')\n",
        "      p1_1, p1_2 = list(map(lambda x: int(x), p1.split('-')))\n",
        "      p2_1, p2_2 = list(map(lambda x: int(x), p2.split('-')))\n",
        "      range_pairs.append(((p1_1, p1_2), (p2_1, p2_2)))\n",
        "  return range_pairs"
      ],
      "metadata": {
        "id": "xhPL55oMlwBk"
      },
      "execution_count": null,
      "outputs": []
    },
    {
      "cell_type": "code",
      "source": [
        "def overlaps(p1_1, p1_2, p2_1, p2_2):\n",
        "  return max(p1_1, p2_1) <= min(p1_2, p2_2)\n",
        "\n",
        "def p1(range_pairs):\n",
        "  out = 0\n",
        "  for ((p1_1, p1_2), (p2_1, p2_2)) in range_pairs:\n",
        "    if overlaps(p1_1, p1_2, p2_1, p2_2):\n",
        "      out += 1\n",
        "  return out\n",
        "\n",
        "p1(parse('4_2.txt'))"
      ],
      "metadata": {
        "colab": {
          "base_uri": "https://localhost:8080/"
        },
        "id": "KzTux5oSnbK7",
        "outputId": "0311401b-883c-4e6e-aa91-b9ad32a2851f"
      },
      "execution_count": null,
      "outputs": [
        {
          "output_type": "execute_result",
          "data": {
            "text/plain": [
              "883"
            ]
          },
          "metadata": {},
          "execution_count": 24
        }
      ]
    },
    {
      "cell_type": "markdown",
      "source": [
        "day 5"
      ],
      "metadata": {
        "id": "XsZS_rU06S7Z"
      }
    },
    {
      "cell_type": "code",
      "source": [
        "import os\n",
        "import re\n",
        "\n",
        "def parse(fn):\n",
        "  BLANK_LINE = os.linesep + os.linesep\n",
        "  stacks_str, moves_str = open(fn).read().split(BLANK_LINE)\n",
        "  n_stacks = int(stacks_str[-2]) # assumes n_stacks <= 9\n",
        "  rows, moves = [], []\n",
        "\n",
        "  for stack_row_str in stacks_str.split('\\n')[:-1]:\n",
        "    rows.append(stack_row_str\n",
        "      .replace('] [', ',').replace('[', '').replace(']', '')\n",
        "      .replace(' '*4, ',')\n",
        "      .replace(' ', ',')\n",
        "      .split(',')\n",
        "    )\n",
        "\n",
        "  for move_str in moves_str.split('\\n')[:-1]:\n",
        "    move = re.findall('move ([0-9]+) from ([0-9]+) to ([0-9]+)', move_str)\n",
        "    moves.append([int(x) for x in move[0]])\n",
        "\n",
        "  stacks = list([\n",
        "    list(filter(lambda crate: crate != '', col)) for col in zip(*rows)\n",
        "  ])\n",
        "\n",
        "  return stacks, moves"
      ],
      "metadata": {
        "id": "vPE6MjQrnfKD"
      },
      "execution_count": null,
      "outputs": []
    },
    {
      "cell_type": "code",
      "source": [
        "def p1(stacks, moves):\n",
        "  for (n_to_move, from_idx, to_idx) in moves:\n",
        "    for _ in range(n_to_move):\n",
        "      stacks[to_idx - 1] = [stacks[from_idx - 1].pop(0)] + stacks[to_idx - 1]\n",
        "  return ''.join([stack[0] for stack in stacks])\n",
        "\n",
        "stacks, moves = parse('5_2.txt')\n",
        "print(p1(stacks, moves))"
      ],
      "metadata": {
        "colab": {
          "base_uri": "https://localhost:8080/"
        },
        "id": "3xT6miFFJj8F",
        "outputId": "e93f6a16-6f67-4389-8317-54a18d0c365b"
      },
      "execution_count": null,
      "outputs": [
        {
          "output_type": "stream",
          "name": "stdout",
          "text": [
            "RFFFWBPNS\n"
          ]
        }
      ]
    },
    {
      "cell_type": "code",
      "source": [
        "def p1(stacks, moves):\n",
        "  for (n_to_move, from_idx, to_idx) in moves:\n",
        "    stacks[to_idx - 1] = stacks[from_idx - 1][:n_to_move] + stacks[to_idx - 1]\n",
        "    stacks[from_idx - 1] = stacks[from_idx - 1][n_to_move:]\n",
        "  return ''.join([stack[0] for stack in stacks])\n",
        "\n",
        "stacks, moves = parse('5_2.txt')\n",
        "print(p1(stacks, moves))"
      ],
      "metadata": {
        "colab": {
          "base_uri": "https://localhost:8080/"
        },
        "id": "llHwzs71xo3l",
        "outputId": "f02b71be-13b2-4572-f3e0-bad3a6807a64"
      },
      "execution_count": null,
      "outputs": [
        {
          "output_type": "stream",
          "name": "stdout",
          "text": [
            "CQQBBJFCS\n"
          ]
        }
      ]
    },
    {
      "cell_type": "markdown",
      "source": [
        "day 6"
      ],
      "metadata": {
        "id": "h0Ifr2EHAEG3"
      }
    },
    {
      "cell_type": "code",
      "source": [
        "def parse(fn):\n",
        "  return open(fn).read().strip()\n",
        "\n",
        "def p1(s):\n",
        "  substr = list(s[:4])\n",
        "  for i, c in enumerate(s[4:]):\n",
        "    substr_set = set(substr)\n",
        "\n",
        "    if len(substr_set) == len(substr):\n",
        "      return i + 4\n",
        "\n",
        "    delete_c = substr.pop(0)\n",
        "    substr.append(c)\n",
        "\n",
        "  if len(substr_set) == len(substr):\n",
        "    return i + 1\n",
        "  return ''\n",
        "\n",
        "p1('bvwbjplbgvbhsrlpgdmjqwftvncz')"
      ],
      "metadata": {
        "colab": {
          "base_uri": "https://localhost:8080/"
        },
        "id": "222xUTcdAETE",
        "outputId": "2166d6db-18f5-4830-b8cd-7280ab74740b"
      },
      "execution_count": null,
      "outputs": [
        {
          "output_type": "execute_result",
          "data": {
            "text/plain": [
              "5"
            ]
          },
          "metadata": {},
          "execution_count": 41
        }
      ]
    },
    {
      "cell_type": "code",
      "source": [
        "p1('nznrnfrfntjfmvfwmzdfjlvtqnbhcprsg')"
      ],
      "metadata": {
        "colab": {
          "base_uri": "https://localhost:8080/"
        },
        "id": "iGMqmfWJAQri",
        "outputId": "d07ab4f6-8067-4c33-8289-c046ed12c99b"
      },
      "execution_count": null,
      "outputs": [
        {
          "output_type": "execute_result",
          "data": {
            "text/plain": [
              "10"
            ]
          },
          "metadata": {},
          "execution_count": 43
        }
      ]
    },
    {
      "cell_type": "code",
      "source": [
        "p1('mjqjpqmgbljsphdztnvjfqwrcgsmlb')"
      ],
      "metadata": {
        "colab": {
          "base_uri": "https://localhost:8080/"
        },
        "id": "YPMRCVAmCVbc",
        "outputId": "c0228d5a-7ddd-4847-a66e-46b566252917"
      },
      "execution_count": null,
      "outputs": [
        {
          "output_type": "execute_result",
          "data": {
            "text/plain": [
              "7"
            ]
          },
          "metadata": {},
          "execution_count": 44
        }
      ]
    },
    {
      "cell_type": "code",
      "source": [
        "p1('zcfzfwzzqfrljwzlrfnpqdbhtmscgvjw')"
      ],
      "metadata": {
        "colab": {
          "base_uri": "https://localhost:8080/"
        },
        "id": "zR1X5as0CmX4",
        "outputId": "61cf2243-011c-493b-8fba-86b6af014c52"
      },
      "execution_count": null,
      "outputs": [
        {
          "output_type": "execute_result",
          "data": {
            "text/plain": [
              "11"
            ]
          },
          "metadata": {},
          "execution_count": 45
        }
      ]
    },
    {
      "cell_type": "code",
      "source": [
        "p1(parse('6_2.txt'))"
      ],
      "metadata": {
        "colab": {
          "base_uri": "https://localhost:8080/"
        },
        "id": "-WQSeDjqERlv",
        "outputId": "1449396c-225d-415f-de7a-71b24dcf8b90"
      },
      "execution_count": null,
      "outputs": [
        {
          "output_type": "execute_result",
          "data": {
            "text/plain": [
              "1262"
            ]
          },
          "metadata": {},
          "execution_count": 42
        }
      ]
    },
    {
      "cell_type": "code",
      "source": [
        "def p2(s):\n",
        "  substr = list(s[:14])\n",
        "  for i, c in enumerate(s[14:]):\n",
        "    substr_set = set(substr)\n",
        "    if len(substr_set) == len(substr):\n",
        "      return i + 14\n",
        "    substr.pop(0)\n",
        "    substr.append(c)\n",
        "\n",
        "  return ''\n",
        "\n",
        "p2(parse('6_2.txt'))"
      ],
      "metadata": {
        "colab": {
          "base_uri": "https://localhost:8080/"
        },
        "id": "-v1tv-pnEfkr",
        "outputId": "de7c93ec-4d95-4e8e-81af-46e9fbf7ed9a"
      },
      "execution_count": null,
      "outputs": [
        {
          "output_type": "execute_result",
          "data": {
            "text/plain": [
              "3444"
            ]
          },
          "metadata": {},
          "execution_count": 50
        }
      ]
    },
    {
      "cell_type": "markdown",
      "source": [
        "day 7"
      ],
      "metadata": {
        "id": "m28eg788Car4"
      }
    },
    {
      "cell_type": "code",
      "source": [
        "def parse(fn):\n",
        "  root = {} # the filesystem\n",
        "  stk = [] # stack representing current working directory path\n",
        "\n",
        "  def add_node(name, is_dir, size=-1):\n",
        "    cur_node = root # traversal\n",
        "    for node in stk:\n",
        "      if node not in cur_node:\n",
        "        cur_node[node] = {}\n",
        "      cur_node = cur_node[node]\n",
        "\n",
        "    if is_dir:\n",
        "      cur_node[name] = {} # shitty duck typing\n",
        "    else:\n",
        "      cur_node[name] = (','.join(stk), size)\n",
        "\n",
        "  for line in open(fn).read().split('$ ')[1:]:\n",
        "    lines = line.split('\\n')[:-1]\n",
        "\n",
        "    # cd up one dir\n",
        "    if lines[0] == 'cd ..':\n",
        "      stk.pop()\n",
        "\n",
        "    # cd into an existing dir\n",
        "    elif lines[0][:2] == 'cd':\n",
        "      stk.append(lines[0][3:])\n",
        "\n",
        "    # update fs with new known dirs and files\n",
        "    elif lines[0][:2] == 'ls':\n",
        "      for line in lines[1:]:\n",
        "\n",
        "        # new known dir\n",
        "        if line[:3] == 'dir':\n",
        "          add_node(line[4:], True)\n",
        "\n",
        "        # new known files\n",
        "        else:\n",
        "          size, name = line.split(' ')\n",
        "          add_node(name, False, int(size))\n",
        "\n",
        "  return root"
      ],
      "metadata": {
        "id": "MwO7wMr_KKI1"
      },
      "execution_count": null,
      "outputs": []
    },
    {
      "cell_type": "code",
      "source": [
        "from collections import defaultdict\n",
        "\n",
        "def p1(root):\n",
        "  dir_to_size = defaultdict(int)\n",
        "  stk = [root]\n",
        "  while stk:\n",
        "    node = stk.pop()\n",
        "    if isinstance(node, dict):\n",
        "      stk.extend(node.values())\n",
        "    else:\n",
        "      comma_delimited_path, size = node\n",
        "      ancestors = comma_delimited_path.split(',')\n",
        "      for i in range(len(ancestors)):\n",
        "        dir_to_size[','.join(ancestors[:i+1])] += size\n",
        "\n",
        "  result, total_size = 0, dir_to_size['/']\n",
        "  for dir, size in dir_to_size.items():\n",
        "    if size <= 1e5:\n",
        "      result += size\n",
        "\n",
        "  return dir_to_size, total_size, result\n",
        "\n",
        "p1(parse('7_2.txt'))[2]"
      ],
      "metadata": {
        "colab": {
          "base_uri": "https://localhost:8080/"
        },
        "id": "3OFjZc-VI8ei",
        "outputId": "2d1562ad-8c09-4071-a88d-d840d925fe38"
      },
      "execution_count": null,
      "outputs": [
        {
          "output_type": "execute_result",
          "data": {
            "text/plain": [
              "1307902"
            ]
          },
          "metadata": {},
          "execution_count": 84
        }
      ]
    },
    {
      "cell_type": "code",
      "source": [
        "def p2(root):\n",
        "  dir_to_size, total_size, _ = p1(root)\n",
        "  candidates = [] # list of [(dir: str, size: int)]\n",
        "\n",
        "  MIN_TOTAL_SIZE = total_size - 4e7 # to delete\n",
        "  for dir, size in dir_to_size.items():\n",
        "    if size >= MIN_TOTAL_SIZE:\n",
        "      candidates.append((dir, size))\n",
        "\n",
        "  candidates = sorted(candidates, key=lambda tup: tup[1])\n",
        "  return candidates[0][1]\n",
        "\n",
        "p2(parse('7_2.txt'))"
      ],
      "metadata": {
        "colab": {
          "base_uri": "https://localhost:8080/"
        },
        "id": "6YBHdDjZPSos",
        "outputId": "47c57781-060e-48ab-d4bc-f99920bc4133"
      },
      "execution_count": null,
      "outputs": [
        {
          "output_type": "execute_result",
          "data": {
            "text/plain": [
              "7068748"
            ]
          },
          "metadata": {},
          "execution_count": 87
        }
      ]
    },
    {
      "cell_type": "markdown",
      "source": [
        "day 8"
      ],
      "metadata": {
        "id": "GRDiioB1H7-9"
      }
    },
    {
      "cell_type": "code",
      "source": [
        "def parse(fn):\n",
        "  out = []\n",
        "  for line in open(fn).read().split('\\n')[:-1]:\n",
        "    out.append(list(map(lambda c: int(c), line)))\n",
        "  return out\n",
        "\n",
        "parse('8_1.txt')"
      ],
      "metadata": {
        "id": "rBGVt2MZQfoB",
        "colab": {
          "base_uri": "https://localhost:8080/"
        },
        "outputId": "0c6dc90e-668e-475f-dcd7-0996a0592eb8"
      },
      "execution_count": null,
      "outputs": [
        {
          "output_type": "execute_result",
          "data": {
            "text/plain": [
              "[[3, 0, 3, 7, 3],\n",
              " [2, 5, 5, 1, 2],\n",
              " [6, 5, 3, 3, 2],\n",
              " [3, 3, 5, 4, 9],\n",
              " [3, 5, 3, 9, 0]]"
            ]
          },
          "metadata": {},
          "execution_count": 6
        }
      ]
    },
    {
      "cell_type": "code",
      "source": [
        "def is_visible(x, y, grid):\n",
        "  h = grid[x][y]\n",
        "  up = all([grid[row][y] < h for row in range(0, x)])\n",
        "  down = all([grid[row][y] < h for row in range(x + 1, len(grid))])\n",
        "  left = all([grid[x][col] < h for col in range(0, y)])\n",
        "  right = all([grid[x][col] < h for col in range(y + 1, len(grid[0]))])\n",
        "  return up or down or left or right\n",
        "\n",
        "def p1(grid):\n",
        "  out = (len(grid) * 2) + ((len(grid[0]) - 2) * 2)\n",
        "  for row in range(1, len(grid) - 1):\n",
        "    for col in range(1, len(grid[0]) - 1):\n",
        "      if is_visible(row, col, grid):\n",
        "        out += 1\n",
        "  return out\n",
        "\n",
        "p1(parse('8_2.txt'))"
      ],
      "metadata": {
        "colab": {
          "base_uri": "https://localhost:8080/"
        },
        "id": "vOBWlVrbIp1u",
        "outputId": "ae7bc0d8-399e-40b4-ea74-febd06aae031"
      },
      "execution_count": null,
      "outputs": [
        {
          "output_type": "execute_result",
          "data": {
            "text/plain": [
              "1794"
            ]
          },
          "metadata": {},
          "execution_count": 9
        }
      ]
    },
    {
      "cell_type": "code",
      "source": [
        "def viewing_distance(ox, oy, dx, dy, grid):\n",
        "  x, y = ox + dx, oy + dy\n",
        "  out = 0\n",
        "  while x >= 0 and x < len(grid) and y >= 0 and y < len(grid[0]):\n",
        "    out += 1\n",
        "    if grid[x][y] >= grid[ox][oy]:\n",
        "      return out # we can't see past this tree\n",
        "    x += dx\n",
        "    y += dy\n",
        "  return out\n",
        "\n",
        "def scenic_score(x, y, grid):\n",
        "  product = 1\n",
        "  for dx, dy in [(-1, 0), (0, 1), (0, -1), (1, 0)]:\n",
        "    product *= viewing_distance(x, y, dx, dy, grid)\n",
        "  return product\n",
        "\n",
        "def p2(grid):\n",
        "  max_ss = 0\n",
        "  for row in range(len(grid)):\n",
        "    for col in range(len(grid[0])):\n",
        "      max_ss = max(max_ss, scenic_score(row, col, grid))\n",
        "  return max_ss\n",
        "\n",
        "p2(parse('8_2.txt'))"
      ],
      "metadata": {
        "colab": {
          "base_uri": "https://localhost:8080/"
        },
        "id": "3eatz2_fK1XW",
        "outputId": "a7719a4e-b52f-4a91-e9e2-952483fbba9b"
      },
      "execution_count": null,
      "outputs": [
        {
          "output_type": "execute_result",
          "data": {
            "text/plain": [
              "199272"
            ]
          },
          "metadata": {},
          "execution_count": 33
        }
      ]
    },
    {
      "cell_type": "markdown",
      "source": [
        "day 9"
      ],
      "metadata": {
        "id": "-2z8_yL2QSil"
      }
    },
    {
      "cell_type": "code",
      "source": [
        "def parse(fn):\n",
        "  moves = open(fn).read().split('\\n')[:-1]\n",
        "  moves = list(map(lambda move: move.split(' '), moves))\n",
        "  return [(dir, int(magnitude)) for dir, magnitude in moves]"
      ],
      "metadata": {
        "id": "mplrnhHBQT7H"
      },
      "execution_count": null,
      "outputs": []
    },
    {
      "cell_type": "code",
      "source": [
        "from collections import defaultdict\n",
        "\n",
        "dir_dxdy = {\n",
        "  'R': (0, 1),\n",
        "  'L': (0, -1),\n",
        "  'U': (-1, 0),\n",
        "  'D': (1, 0),\n",
        "}\n",
        "\n",
        "# update the tail\n",
        "# If the head is ever two steps directly up, down, left, or right from the tail, the tail must also move one step in that direction so it remains close enough:\n",
        "# Otherwise, if the head and tail aren't touching and aren't in the same row or column, the tail always moves one step diagonally to keep up\n",
        "def update(hd, tl):\n",
        "  hx, hy = hd\n",
        "  tx, ty = tl\n",
        "  if abs(hx - tx) <= 1 and abs(hy - ty) <= 1: # head, tail touching\n",
        "    return tx, ty\n",
        "  if hx == tx and hy > ty: # head to the right of tail\n",
        "    return tx, ty + 1\n",
        "  elif hx == tx and hy < ty: # head to the left of tail\n",
        "    return tx, ty - 1\n",
        "  elif hx > tx and hy == ty: # head below tail\n",
        "    return tx + 1, ty\n",
        "  elif hx < tx and hy == ty: # head above tail\n",
        "    return tx - 1, ty\n",
        "  elif hx < tx and hy < ty: # head NW of tail\n",
        "    return tx - 1, ty - 1\n",
        "  elif hx < tx and hy > ty: # head NE of tail\n",
        "    return tx - 1, ty + 1\n",
        "  elif hx > tx and hy < ty: # head SW of tail\n",
        "    return tx + 1, ty - 1\n",
        "  elif hx > tx and hy > ty: # head SE of tail\n",
        "    return tx + 1, ty + 1\n",
        "\n",
        "def p1(moves):\n",
        "  hd, tl = (0, 0), (0, 0)\n",
        "  freqs = defaultdict(int)\n",
        "\n",
        "  for dir, magnitude in moves:\n",
        "    dx, dy = dir_dxdy[dir]\n",
        "    for _ in range(magnitude):\n",
        "      hd = (hd[0] + dx, hd[1] + dy)\n",
        "      tl = update(hd, tl)\n",
        "      freqs[tl] += 1\n",
        "  return len(freqs)\n",
        "\n",
        "p1(parse('9_2.txt'))"
      ],
      "metadata": {
        "colab": {
          "base_uri": "https://localhost:8080/"
        },
        "id": "ayo5nbmZSge6",
        "outputId": "1f39bec2-53c4-4a15-d980-b811d6ee1a31"
      },
      "execution_count": null,
      "outputs": [
        {
          "output_type": "execute_result",
          "data": {
            "text/plain": [
              "5683"
            ]
          },
          "metadata": {},
          "execution_count": 2
        }
      ]
    },
    {
      "cell_type": "code",
      "source": [
        "def p2(moves):\n",
        "  hd, tl = (0, 0), (0, 0)\n",
        "  freqs = defaultdict(int)\n",
        "  body = [hd] + [(0, 0) for i in range(9)] # len(body) <= 9, body[i] = position of i-th body part\n",
        "\n",
        "  for dir, magnitude in moves:\n",
        "    dx, dy = dir_dxdy[dir]\n",
        "    for _ in range(magnitude):\n",
        "      body[0] = (body[0][0] + dx, body[0][1] + dy)\n",
        "\n",
        "      i = 0\n",
        "      while i < len(body) - 1:\n",
        "        b1, b2 = body[i], body[i + 1]\n",
        "        body[i + 1] = update(b1, b2)\n",
        "        i += 1\n",
        "      freqs[body[9]] += 1\n",
        "\n",
        "  return len(freqs)\n",
        "\n",
        "p2(parse('9_2.txt'))"
      ],
      "metadata": {
        "colab": {
          "base_uri": "https://localhost:8080/"
        },
        "id": "oW5ep7PRX06w",
        "outputId": "7e7a647e-e8d0-4567-bbaa-76fd77aa481e"
      },
      "execution_count": null,
      "outputs": [
        {
          "output_type": "execute_result",
          "data": {
            "text/plain": [
              "2372"
            ]
          },
          "metadata": {},
          "execution_count": 17
        }
      ]
    },
    {
      "cell_type": "markdown",
      "source": [
        "day 10"
      ],
      "metadata": {
        "id": "1lIsyaWUamyN"
      }
    },
    {
      "cell_type": "code",
      "source": [
        "def parse(fn):\n",
        "  instrs = open(fn).read().split('\\n')[:-1]\n",
        "  instrs = list(map(lambda row: row.split(' '), instrs))\n",
        "  return [(row[0], int(row[1])) if len(row) > 1 else (row[0], 0) for row in instrs] # ignore noop\n",
        "\n",
        "def p1(instrs):\n",
        "  x, cycle = 1, 1\n",
        "  total_ss = 0\n",
        "  cycle_to_exec, incr_to_exec = 0, 0\n",
        "\n",
        "  while instrs or cycle_to_exec != 0 or incr_to_exec != 0:\n",
        "    if cycle_to_exec == 0:\n",
        "      (instr, incr) = instrs.pop(0)\n",
        "      if instr == 'addx':\n",
        "        cycle_to_exec = cycle + 1\n",
        "        incr_to_exec = incr\n",
        "\n",
        "    # it matters where you put this!\n",
        "    if cycle == 20 or (cycle >= 40 and (cycle - 20) % 40 == 0):\n",
        "      total_ss += x * cycle\n",
        "\n",
        "    if cycle_to_exec == cycle:\n",
        "      x += incr_to_exec\n",
        "      cycle_to_exec, incr_to_exec = 0, 0\n",
        "\n",
        "    cycle += 1\n",
        "\n",
        "  return total_ss\n",
        "\n",
        "p1(parse('10_2.txt'))"
      ],
      "metadata": {
        "colab": {
          "base_uri": "https://localhost:8080/"
        },
        "id": "z8Ngfc7wbvyR",
        "outputId": "5ae1ae9f-e4b2-45c3-e501-01157ed51df1"
      },
      "execution_count": null,
      "outputs": [
        {
          "output_type": "execute_result",
          "data": {
            "text/plain": [
              "14320"
            ]
          },
          "metadata": {},
          "execution_count": 2
        }
      ]
    },
    {
      "cell_type": "code",
      "source": [
        "import os\n",
        "\n",
        "def p2(instrs):\n",
        "  x = 1\n",
        "  cycle_to_exec, incr_to_exec = 0, 0\n",
        "  s = ''\n",
        "\n",
        "  for cycle in range(1, 241):\n",
        "    if (cycle - 1) % 40 == 0:\n",
        "      print(s)\n",
        "      s = ''\n",
        "\n",
        "    if cycle_to_exec == 0:\n",
        "      (instr, incr) = instrs.pop(0)\n",
        "      if instr == 'addx':\n",
        "        cycle_to_exec, incr_to_exec = cycle + 1, incr\n",
        "\n",
        "    # sprite positioning\n",
        "    pos = (cycle - 1) % 40 # nasty\n",
        "    if x >= pos - 1 and x <= pos + 1:\n",
        "      s += ' #'\n",
        "    else:\n",
        "      s += ' .'\n",
        "\n",
        "    if cycle_to_exec == cycle:\n",
        "      x += incr_to_exec\n",
        "      cycle_to_exec, incr_to_exec = 0, 0\n",
        "\n",
        "  print(s)\n",
        "\n",
        "p2(parse('10_2.txt'))"
      ],
      "metadata": {
        "colab": {
          "base_uri": "https://localhost:8080/"
        },
        "id": "ZoqSJeqxm_Rp",
        "outputId": "f89e4518-f302-455b-ad88-1eb165e5b9c1"
      },
      "execution_count": null,
      "outputs": [
        {
          "output_type": "stream",
          "name": "stdout",
          "text": [
            "\n",
            " # # # . . . # # . . # # # . . # # # . . # . . # . . # # . . # # # . . . . # # .\n",
            " # . . # . # . . # . # . . # . # . . # . # . # . . # . . # . # . . # . . . . # .\n",
            " # . . # . # . . . . # . . # . # # # . . # # . . . # . . # . # . . # . . . . # .\n",
            " # # # . . # . . . . # # # . . # . . # . # . # . . # # # # . # # # . . . . . # .\n",
            " # . . . . # . . # . # . . . . # . . # . # . # . . # . . # . # . . . . # . . # .\n",
            " # . . . . . # # . . # . . . . # # # . . # . . # . # . . # . # . . . . . # # . .\n"
          ]
        }
      ]
    },
    {
      "cell_type": "markdown",
      "source": [
        "day 11"
      ],
      "metadata": {
        "id": "QyIvYlf3pep1"
      }
    },
    {
      "cell_type": "code",
      "source": [
        "import os\n",
        "import re\n",
        "#import sys; sys.set_int_max_str_digits(10)\n",
        "\n",
        "class Item(object):\n",
        "  def __init__(self, worry_level):\n",
        "    self.worry_level = worry_level\n",
        "\n",
        "class Monkey(object):\n",
        "  def __init__(self, id, items, operation, test):\n",
        "    self.id = id\n",
        "    self.n_inspections = 0\n",
        "    self.items = items\n",
        "    self.operation = operation\n",
        "    self.test = test\n",
        "\n",
        "def parse(fn):\n",
        "  paragraphs = open(fn).read().split(os.linesep + os.linesep)\n",
        "  monkeys = []\n",
        "  for pg in paragraphs:\n",
        "    pg = pg.split(os.linesep)\n",
        "    id = int(re.findall('Monkey ([0-9]+)', pg[0])[0])\n",
        "    items_str = pg[1].replace('  Starting items: ', '').split(', ')\n",
        "    items = list(map(lambda worry_level: Item(int(worry_level)), items_str))\n",
        "    operation = pg[2].replace('  Operation: new = old ', '')\n",
        "    operation = operation.split(' ')\n",
        "    test1 = int(re.findall('Test: divisible by ([0-9]+)', pg[3])[0])\n",
        "    test2 = int(re.findall('If true: throw to monkey ([0-9]+)', pg[4])[0])\n",
        "    test3 = int(re.findall('If false: throw to monkey ([0-9]+)', pg[5])[0])\n",
        "    test = (test1, test2, test3)\n",
        "    monkeys.append(Monkey(id, items, operation, test))\n",
        "  return monkeys\n",
        "\n",
        "def print_result(round, monkeys):\n",
        "  print(f'After round {round}, the monkeys are holding items with these worry levels:')\n",
        "  for monkey in monkeys:\n",
        "    print(f'Monkey {monkey.id}: {[item.worry_level for item in monkey.items]}')\n",
        "  print()\n",
        "\n",
        "def p1(monkeys):\n",
        "  ROUNDS = 20\n",
        "  for round in range(ROUNDS):\n",
        "    for monkey in monkeys:\n",
        "      while monkey.items:\n",
        "        item = monkey.items.pop(0)\n",
        "        monkey.n_inspections += 1\n",
        "        if monkey.operation[1] == 'old':\n",
        "          item.worry_level = eval(f'{item.worry_level} {monkey.operation[0]} {item.worry_level}')\n",
        "        else:\n",
        "          item.worry_level = eval(f'{item.worry_level} {monkey.operation[0]} {monkey.operation[1]}')\n",
        "\n",
        "        item.worry_level //= 3\n",
        "        divisor, divisible_target, indivisible_target = monkey.test\n",
        "\n",
        "        if item.worry_level % divisor == 0:\n",
        "          monkeys[divisible_target].items.append(item)\n",
        "        else:\n",
        "          monkeys[indivisible_target].items.append(item)\n",
        "    #print_result(round + 1, monkeys)\n",
        "\n",
        "  inspections = sorted([m.n_inspections for m in monkeys], reverse=True)[:2]\n",
        "  return inspections[0] * inspections[1]\n",
        "\n",
        "p1(parse('11_1.txt'))"
      ],
      "metadata": {
        "colab": {
          "base_uri": "https://localhost:8080/"
        },
        "id": "J4dLTL6ype43",
        "outputId": "bc29d7ca-84a2-4393-c99b-4e8c9dca43a2"
      },
      "execution_count": null,
      "outputs": [
        {
          "output_type": "execute_result",
          "data": {
            "text/plain": [
              "10605"
            ]
          },
          "metadata": {},
          "execution_count": 21
        }
      ]
    },
    {
      "cell_type": "code",
      "source": [
        "from math import gcd\n",
        "\n",
        "def get_lcm(ls):\n",
        "  lcm = 1\n",
        "  for i in ls:\n",
        "    lcm = lcm * i // gcd(lcm, i)\n",
        "  return lcm\n",
        "\n",
        "def p2(monkeys):\n",
        "  DIVISOR_PRODUCT = 1\n",
        "  for monkey in monkeys:\n",
        "    DIVISOR_PRODUCT *= monkey.test[0]\n",
        "\n",
        "  #divisors = [monkey.test[0] for monkey in monkeys]\n",
        "  #LCM_DIVISORS = get_lcm(divisors)\n",
        "\n",
        "  ROUNDS = 10000\n",
        "  for round in range(ROUNDS):\n",
        "    for monkey in monkeys:\n",
        "      while monkey.items:\n",
        "        item = monkey.items.pop(0)\n",
        "        monkey.n_inspections += 1\n",
        "        if monkey.operation[1] == 'old':\n",
        "          item.worry_level = eval(f'{item.worry_level} {monkey.operation[0]} {item.worry_level}')\n",
        "        else:\n",
        "          item.worry_level = eval(f'{item.worry_level} {monkey.operation[0]} {monkey.operation[1]}')\n",
        "\n",
        "        divisor, divisible_target, indivisible_target = monkey.test\n",
        "        item.worry_level %= DIVISOR_PRODUCT # divisors are all primes?\n",
        "\n",
        "        if item.worry_level % divisor == 0:\n",
        "          monkeys[divisible_target].items.append(item)\n",
        "        else:\n",
        "          monkeys[indivisible_target].items.append(item)\n",
        "\n",
        "  inspections = sorted([m.n_inspections for m in monkeys], reverse=True)[:2]\n",
        "  return inspections[0] * inspections[1]\n",
        "\n",
        "p2(parse('11_2.txt'))"
      ],
      "metadata": {
        "colab": {
          "base_uri": "https://localhost:8080/"
        },
        "id": "bEkszcPLLUtB",
        "outputId": "247e1d1f-1ddc-4651-b1d7-78d6ad38bc46"
      },
      "execution_count": null,
      "outputs": [
        {
          "output_type": "execute_result",
          "data": {
            "text/plain": [
              "15117269860"
            ]
          },
          "metadata": {},
          "execution_count": 38
        }
      ]
    },
    {
      "cell_type": "markdown",
      "source": [
        "day 12"
      ],
      "metadata": {
        "id": "HwQAespv4Cc6"
      }
    },
    {
      "cell_type": "code",
      "source": [
        "from heapq import heappush, heappop\n",
        "\n",
        "def parse(fn):\n",
        "  grid = list(map(lambda row: list(row), open(fn).read().split('\\n')[:-1]))\n",
        "  nrows, ncols = len(grid), len(grid[0])\n",
        "  start = [(r, c) for r in range(nrows) for c in range(ncols) if grid[r][c] == 'S'][0]\n",
        "  end = [(r, c) for r in range(nrows) for c in range(ncols) if grid[r][c] == 'E'][0]\n",
        "  grid[end[0]][end[1]] = 'z'\n",
        "  return grid, start, end\n",
        "\n",
        "def neighbors(grid, r, c):\n",
        "  out = []\n",
        "  for dx, dy in [(-1, 0), (1, 0), (0, -1), (0, 1)]:\n",
        "    x, y = r + dx, c + dy\n",
        "    if x < len(grid) and x >= 0 and y < len(grid[0]) and y >= 0 and (x, y) != (r, c):\n",
        "      out.append((x, y))\n",
        "  return out\n",
        "\n",
        "def p1(grid, start, end):\n",
        "  visited = set([xy for xy in neighbors(grid, start[0], start[1])])\n",
        "  q = [(1, xy, [start, xy]) for xy in neighbors(grid, start[0], start[1])]\n",
        "  while q:\n",
        "    nsteps, (r, c), path = heappop(q)\n",
        "    if (r, c) == end:\n",
        "      return nsteps\n",
        "\n",
        "    for (x, y) in neighbors(grid, r, c):\n",
        "      if ord(grid[x][y]) <= (ord(grid[r][c]) + 1) and (x, y) not in visited:\n",
        "        heappush(q, (nsteps + 1, (x, y), path + [(x, y)]))\n",
        "        visited.add((x, y))\n",
        "\n",
        "  return 0\n",
        "\n",
        "grid, start, end = parse('12_2.txt')\n",
        "p1(grid, start, end)"
      ],
      "metadata": {
        "colab": {
          "base_uri": "https://localhost:8080/"
        },
        "id": "2B6bM0Wo4B6-",
        "outputId": "cfdd6e18-c55d-4118-acbb-c2cf60366807"
      },
      "execution_count": null,
      "outputs": [
        {
          "output_type": "execute_result",
          "data": {
            "text/plain": [
              "456"
            ]
          },
          "metadata": {},
          "execution_count": 46
        }
      ]
    },
    {
      "cell_type": "code",
      "source": [
        "import math\n",
        "\n",
        "def p2(grid, start, end):\n",
        "  nrows, ncols = len(grid), len(grid[0])\n",
        "  grid[start[0]][start[1]] = 'a'\n",
        "  squares_marked_a = [(x, y) for x in range(nrows) for y in range(ncols) if grid[x][y] == 'a']\n",
        "\n",
        "  visited = {end} # set([xy for xy in neighbors(grid, end[0], end[1])])\n",
        "  q = [(0, end)] # [(1, xy) for xy in neighbors(grid, end[0], end[1])]\n",
        "  cost = [[math.inf for _ in range(ncols)] for _ in range(nrows)]\n",
        "  cost[end[0]][end[1]] = 0\n",
        "\n",
        "  while q:\n",
        "    nsteps, (r, c) = heappop(q)\n",
        "    for (x, y) in neighbors(grid, r, c):\n",
        "      if ord(grid[x][y]) >= (ord(grid[r][c]) - 1) and (x, y) not in visited:\n",
        "        cost[x][y] = nsteps + 1\n",
        "        heappush(q, (nsteps + 1, (x, y)))\n",
        "        visited.add((x, y))\n",
        "\n",
        "  m = nrows * ncols\n",
        "  for (x, y) in squares_marked_a:\n",
        "    m = min(m, cost[x][y])\n",
        "  return m\n",
        "\n",
        "grid, start, end = parse('12_2.txt')\n",
        "p2(grid, start, end)"
      ],
      "metadata": {
        "colab": {
          "base_uri": "https://localhost:8080/"
        },
        "id": "Ujsm2A_xD6tb",
        "outputId": "9112818b-9f1c-4609-fabf-e9212e894afa"
      },
      "execution_count": null,
      "outputs": [
        {
          "output_type": "execute_result",
          "data": {
            "text/plain": [
              "454"
            ]
          },
          "metadata": {},
          "execution_count": 56
        }
      ]
    }
  ]
}